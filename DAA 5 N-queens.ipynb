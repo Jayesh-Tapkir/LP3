{
 "cells": [
  {
   "cell_type": "code",
   "execution_count": 1,
   "id": "ad38bfac-3f83-4045-9c66-de658b6fd95c",
   "metadata": {},
   "outputs": [
    {
     "name": "stdin",
     "output_type": "stream",
     "text": [
      "Enter the value of N:  4\n"
     ]
    },
    {
     "name": "stdout",
     "output_type": "stream",
     "text": [
      "* * Q * \n",
      "Q * * * \n",
      "* * * Q \n",
      "* Q * * \n"
     ]
    },
    {
     "data": {
      "text/plain": [
       "True"
      ]
     },
     "execution_count": 1,
     "metadata": {},
     "output_type": "execute_result"
    }
   ],
   "source": [
    "def is_safe(board, row, col, N):\n",
    "    # Check this row on left side\n",
    "    for i in range(col):\n",
    "        if board[row][i] == 1:\n",
    "            return False\n",
    "\n",
    "    # Check upper diagonal on left side\n",
    "    for i, j in zip(range(row, -1, -1), range(col, -1, -1)):\n",
    "        if board[i][j] == 1:\n",
    "            return False\n",
    "\n",
    "    # Check lower diagonal on left side\n",
    "    for i, j in zip(range(row, N, 1), range(col, -1, -1)):\n",
    "        if board[i][j] == 1:\n",
    "            return False\n",
    "\n",
    "    return True\n",
    "\n",
    "def solve_nqueens_util(board, col, N):\n",
    "    if col == N:\n",
    "        return True\n",
    "\n",
    "    for i in range(N):\n",
    "        if is_safe(board, i, col, N):\n",
    "            board[i][col] = 1\n",
    "\n",
    "            if solve_nqueens_util(board, col + 1, N):\n",
    "                return True\n",
    "\n",
    "            # Backtrack if this placement doesn't lead to a solution\n",
    "            board[i][col] = 0\n",
    "\n",
    "    return False\n",
    "\n",
    "def solve_nqueens(N):\n",
    "    board = [[0 for _ in range(N)] for _ in range(N)]\n",
    "\n",
    "    if not solve_nqueens_util(board, 0, N):\n",
    "        print(\"Solution does not exist\")\n",
    "        return False\n",
    "\n",
    "    # Print the board with 'Q' for queens and '*' for empty spaces\n",
    "    for i in range(N):\n",
    "        for j in range(N):\n",
    "            if board[i][j] == 1:\n",
    "                print('Q', end=\" \")\n",
    "            else:\n",
    "                print('*', end=\" \")\n",
    "        print()  # Move to the next line\n",
    "    return True\n",
    "\n",
    "# Get user input for N\n",
    "N = int(input(\"Enter the value of N: \"))\n",
    "\n",
    "solve_nqueens(N)"
   ]
  },
  {
   "cell_type": "code",
   "execution_count": null,
   "id": "1d466fbd-5feb-47f6-b809-d230a05e9753",
   "metadata": {},
   "outputs": [],
   "source": []
  }
 ],
 "metadata": {
  "kernelspec": {
   "display_name": "Python 3 (ipykernel)",
   "language": "python",
   "name": "python3"
  },
  "language_info": {
   "codemirror_mode": {
    "name": "ipython",
    "version": 3
   },
   "file_extension": ".py",
   "mimetype": "text/x-python",
   "name": "python",
   "nbconvert_exporter": "python",
   "pygments_lexer": "ipython3",
   "version": "3.13.0"
  }
 },
 "nbformat": 4,
 "nbformat_minor": 5
}
